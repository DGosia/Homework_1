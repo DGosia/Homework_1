{
 "cells": [
  {
   "cell_type": "markdown",
   "metadata": {},
   "source": [
    "To complete the homework simply fill in your answers in this jupyter notebook!\n",
    "\n",
    "Remember that there are many ways in which markup cells can be used and you can add useful things such as references and images to better explain your answers.\n",
    "\n",
    "It is perfectly fine if you copy your answer from somewhere else in the internet as long as you understand the code you copied and cite the source. However, refrain from asking help for your colleagues (unless you're really struggling) as the ability to find information online is crucial for any tech role you might want to have in the future.\n",
    "\n",
    "<h1> Question 1: Multiple prints</h1>\n",
    "Create 3 different variables of different types and print their values using a single print statement."
   ]
  },
  {
   "cell_type": "code",
   "execution_count": null,
   "metadata": {},
   "outputs": [],
   "source": [
    "# Define variables:\n",
    "string_gives_text = \"text\"\n",
    "float_gives_decimal = 10.3\n",
    "integer_just_number = 666\n",
    "\n",
    "# Print all variables using a single statement by implementing an f-string:\n",
    "print(f\"A string is just {string_gives_text}, a float is a decimal number such as {float_gives_decimal} and an integer is a whole number like {integer_just_number}.\")"
   ]
  },
  {
   "cell_type": "markdown",
   "metadata": {},
   "source": [
    "<h1> Question 2: Data structures</h1>\n",
    "Create two variables containing each a nested list and a nested dictionary and demonstrate how to access specific items of it."
   ]
  },
  {
   "cell_type": "code",
   "execution_count": null,
   "metadata": {},
   "outputs": [],
   "source": [
    "# Creating a nested list\n",
    "wild_camping_list = [\n",
    "    [\"tent\", \"sleeping bag\", \"sleeping mat\"], #Something to make it nice and cosy\n",
    "    [\"pot\", \"spoon\", [\"instant noodles\", \"water\"], \"gas stove\"], #To keep me going\n",
    "    [\"t-shirt\", \"raincoat\", \"hat\"] #No matter the weather\n",
    "]\n",
    "\n",
    "# Accessing the first inner list:\n",
    "print(wild_camping_list[0])\n",
    "\n",
    "# Accessing third element from the first inner list:\n",
    "print(wild_camping_list[0][2])\n",
    "\n",
    "# Accessing an inner list in the second inner list:\n",
    "print(wild_camping_list[1][2])\n",
    "\n",
    "\n",
    "# Creating a dictionary (source: https://www.ukbutterflies.co.uk/species.php?species=machaon):\n",
    "swallowtail_butterfly = {\n",
    "    \"Classification\": { # First-level key\n",
    "        \"Family\": \"Papilionidae\", # Nested dictionary\n",
    "        \"Subfamily\": \"Papilioninae\",\n",
    "        \"Tribe\": \"Papilionini\",\n",
    "        \"Genus\": \"Papilio\",\n",
    "        \"Species\": \"machaon\",\n",
    "        \"Subspecies\": [\"britannicus\", \"gorganus\"]\n",
    "    },\n",
    "    \"Distribution\": { # Another first-level key\n",
    "        \"britannicus\": [\"TG\", \"TM\"], # Value is a list\n",
    "        \"gorganus\": [\"SJ\", \"SO\",\"SP\", \"TL\", \"SS\", \"ST\", \"SU\", \"TQ\", \"TR\", \"SX\", \"SY\", \"SZ\", ] \n",
    "    },\n",
    "    \"Habitat\": { # Another first-level key\n",
    "        \"britannicus\": \"open fens with Milk-parsley\",\n",
    "        \"gorganus\": \"open grassland near the south coast of England\"\n",
    "    },\n",
    "    \"UK BAP data\": { # Another first-level key\n",
    "        \"Occurance\": \"Species of Conservation Concern\",\n",
    "        \"Occurrence Change 2005-2014 - percentage\": -56,\n",
    "        \"Abundance Change 2005-2014 - percentage\": +30\n",
    "    }\n",
    "}\n",
    "\n",
    "# Accessing the value of a first-level Key:\n",
    "print(swallowtail_butterfly[\"Classification\"])\n",
    "\n",
    "# Accessing a specific value inside a nested dictionary:\n",
    "print(swallowtail_butterfly[\"Classification\"][\"Genus\"])\n",
    "\n",
    "# Accessing a value inside a list in a nested dictionary:\n",
    "print(swallowtail_butterfly[\"Distribution\"][\"britannicus\"][1])\n",
    "\n",
    "# Accessing a value in another nested dictionary:\n",
    "print(swallowtail_butterfly[\"UK BAP data\"][\"Occurance\"])"
   ]
  },
  {
   "cell_type": "markdown",
   "metadata": {},
   "source": [
    "Now consider the following list,"
   ]
  },
  {
   "cell_type": "code",
   "execution_count": null,
   "metadata": {},
   "outputs": [],
   "source": [
    "a_list = [1,2,3,4,5,6,7,8,9]\n",
    "\n",
    "# Slice the list to contain only numbers smaller than 5\n",
    "sliced_list = a_list[:4]  # Includes elements at indices 0 to 3\n",
    "print(sliced_list)\n",
    "\n",
    "# Make a loop to create a new list containing the even numbers using a list comprehension\n",
    "# Using a loop - used Chat GPT to create a code, breake it down and explain to me step by step. Added notes to help me consolidate the information.\n",
    "even_numbers = [] # Creating an empty list for adding even numbers later, a place to store values that meet a certain conditio\n",
    "for number in a_list: #This is a \"for\" loop that will iterate through each element in \"a_list\"\n",
    "    \n",
    "    # The variable \"number\" is a placeholder. On each iteration, it will hold the current value of the list element being processed\n",
    "    # Iteration is the process of repeating an action for each item in a sequence (like a list, string, or range).\n",
    "    \n",
    "    if number % 2 == 0:     # Checking if the number is even\n",
    "                            # The modulo operator % returns the remainder of dividing number by 2\n",
    "\n",
    "        even_numbers.append(number) \n",
    "\n",
    "       # append() is a list method in Python that adds (or \"appends\") an item to the end of a list.\n",
    "\n",
    "print(even_numbers)\n",
    "\n",
    "\n",
    "# A list comprehension\n",
    "\n",
    "even_numbers = [number for number in a_list if number % 2 == 0]\n",
    "print(even_numbers)\n",
    "\n",
    "\n",
    "# Make a loop to create a new list containing only numbers that are multiples of 3\n",
    "\n",
    "multiples_of_three = [number for number in a_list if number % 3 == 0]\n",
    "print(multiples_of_three)\n",
    "\n",
    "\n",
    "# Bonus - make a loop that will print every item on the list inside a sentence using a f-string\n",
    "\n",
    "for number in a_list:\n",
    "    print(f\"The number is {number}.\")"
   ]
  },
  {
   "cell_type": "markdown",
   "metadata": {},
   "source": [
    "1 - slice this list (by index) to contain only the numbers smaller than 5; <br>\n",
    "2 - make a loop to create a new list containing only the EVEN numbers of this list (bonus point if you use a list comprehension!!);<br>\n",
    "3 - make a loop to create a new list containing only the numbers that are multiples of 3;<br>\n",
    "Bonus - make a loop that will print every item on the list inside a sentence using a f-string."
   ]
  },
  {
   "cell_type": "markdown",
   "metadata": {},
   "source": [
    "<h1>Question 3: Creating functions</h1>\n",
    "\n",
    "Create a function that takes a list of numbers and convert them into strings. (bonus point if you use a list comprehension!!)"
   ]
  },
  {
   "cell_type": "code",
   "execution_count": 8,
   "metadata": {},
   "outputs": [
    {
     "data": {
      "text/plain": [
       "1"
      ]
     },
     "execution_count": 8,
     "metadata": {},
     "output_type": "execute_result"
    }
   ],
   "source": [
    "1"
   ]
  },
  {
   "cell_type": "code",
   "execution_count": 9,
   "metadata": {},
   "outputs": [
    {
     "data": {
      "text/plain": [
       "'1'"
      ]
     },
     "execution_count": 9,
     "metadata": {},
     "output_type": "execute_result"
    }
   ],
   "source": [
    "variable = 1\n",
    "str(variable)"
   ]
  },
  {
   "cell_type": "code",
   "execution_count": 11,
   "metadata": {},
   "outputs": [],
   "source": [
    "yet_another_list = []"
   ]
  },
  {
   "cell_type": "code",
   "execution_count": 12,
   "metadata": {},
   "outputs": [
    {
     "data": {
      "text/plain": [
       "[]"
      ]
     },
     "execution_count": 12,
     "metadata": {},
     "output_type": "execute_result"
    }
   ],
   "source": [
    "yet_another_list"
   ]
  },
  {
   "cell_type": "code",
   "execution_count": 13,
   "metadata": {},
   "outputs": [],
   "source": [
    "yet_another_list.append('cat')"
   ]
  },
  {
   "cell_type": "code",
   "execution_count": 14,
   "metadata": {},
   "outputs": [
    {
     "data": {
      "text/plain": [
       "['cat']"
      ]
     },
     "execution_count": 14,
     "metadata": {},
     "output_type": "execute_result"
    }
   ],
   "source": [
    "yet_another_list"
   ]
  },
  {
   "cell_type": "code",
   "execution_count": null,
   "metadata": {},
   "outputs": [],
   "source": []
  },
  {
   "cell_type": "code",
   "execution_count": 15,
   "metadata": {},
   "outputs": [],
   "source": [
    "def numberToString(the_list):\n",
    "    another_list = []\n",
    "    \n",
    "    for item in the_list:    \n",
    "        converted_item = str(item)\n",
    "        another_list.append(converted_item)\n",
    "        \n",
    "    return(another_list)"
   ]
  },
  {
   "cell_type": "code",
   "execution_count": null,
   "metadata": {},
   "outputs": [],
   "source": []
  },
  {
   "cell_type": "code",
   "execution_count": 16,
   "metadata": {},
   "outputs": [
    {
     "data": {
      "text/plain": [
       "['1', '2', '3', '4', '5']"
      ]
     },
     "execution_count": 16,
     "metadata": {},
     "output_type": "execute_result"
    }
   ],
   "source": [
    "my_list = [1,2,3,4,5]\n",
    "\n",
    "numberToString(the_list=my_list)"
   ]
  },
  {
   "cell_type": "code",
   "execution_count": 20,
   "metadata": {},
   "outputs": [
    {
     "data": {
      "text/plain": [
       "['1', '2', '3', '4', '5']"
      ]
     },
     "execution_count": 20,
     "metadata": {},
     "output_type": "execute_result"
    }
   ],
   "source": [
    "new_list = [str(number) for number in my_list]\n",
    "new_list"
   ]
  },
  {
   "cell_type": "code",
   "execution_count": 19,
   "metadata": {},
   "outputs": [
    {
     "data": {
      "text/plain": [
       "['0', '1', '2', '3', '4', '5', '6', '7', '8', '9']"
      ]
     },
     "execution_count": 19,
     "metadata": {},
     "output_type": "execute_result"
    }
   ],
   "source": [
    "new_list = [str(number) for number in range(10)]\n",
    "new_list"
   ]
  },
  {
   "cell_type": "markdown",
   "metadata": {},
   "source": [
    "Create a small calculator. The function should pick two numbers and perform one of four mathematical operations with it (sum/subtraction, division, multiplication, exponents). The desired operation should be an option (hint: what IF the user wants to do a sum?)\n",
    "\n",
    "Bonus: Make a function that can pick ANY number of numbers."
   ]
  },
  {
   "cell_type": "code",
   "execution_count": null,
   "metadata": {},
   "outputs": [],
   "source": [
    "# Get user input with input() function and convert from string to float\n",
    "num1 = float(input(\"Enter first number: \"))\n",
    "num2 = float(input(\"Enter second number: \"))\n",
    "operation = input(\"Enter operation (+, -, *, /): \")\n",
    "\n",
    "# Perform the operation\n",
    "if operation == '+':\n",
    "    result = num1 + num2\n",
    "elif operation == '-':\n",
    "    result = num1 - num2\n",
    "elif operation == '*':\n",
    "    result = num1 * num2\n",
    "elif operation == '/':\n",
    "    if num2 != 0:\n",
    "        result = num1 / num2\n",
    "    else:\n",
    "        result = \"Error! Division by zero.\"\n",
    "else:\n",
    "    result = \"Invalid operation\"\n",
    "\n",
    "# Display the result\n",
    "print(f\"Result: {result}\")"
   ]
  },
  {
   "cell_type": "markdown",
   "metadata": {},
   "source": [
    "Create a function that check if a number is within a list of numbers."
   ]
  },
  {
   "cell_type": "code",
   "execution_count": null,
   "metadata": {},
   "outputs": [],
   "source": [
    "# Function to check if a given number is in a list\n",
    "def is_number_in_list(lst, number):\n",
    "    return number in lst\n",
    "\n",
    "# Example usage\n",
    "numbers = [1, 6, 7, 16, 25]\n",
    "number_to_check = 16\n",
    "\n",
    "# Call the function and print the result\n",
    "if is_number_in_list(numbers, number_to_check):\n",
    "    print(f\"{number_to_check} is in the list of numbers.\")\n",
    "else:\n",
    "    print(f\"{number_to_check} is not in the list of numbers.\")"
   ]
  },
  {
   "cell_type": "markdown",
   "metadata": {},
   "source": [
    "Bonus: similar to the item above, create a function that checks if a string contains a given substring, e.g. 'I have a cat' contains the string sequence 'cat' or 'ave'."
   ]
  },
  {
   "cell_type": "code",
   "execution_count": null,
   "metadata": {},
   "outputs": [],
   "source": [
    "# Function to check is a string contains a given substring\n",
    "def contains_substring(main_string, substring):\n",
    "    return substring in main_string\n",
    "\n",
    "sentence = \"I have a cat\"\n",
    "substring_to_check = (\"cat\", \"ave\", \"butterfly\")\n",
    "\n",
    "# Check if the substring is in the sentence and print the result\n",
    "for substring in substring_to_check:\n",
    "    if contains_substring(sentence, substring):\n",
    "        print(f\" '{substring}' is in the string '{sentence}' .\")\n",
    "    else:\n",
    "        print(f\" '{substring}' is not in the string '{sentence}' .\")"
   ]
  },
  {
   "cell_type": "markdown",
   "metadata": {},
   "source": [
    "Bonus: create a function that given the initial speed of a projectile that is thrown at 90 degrees will calculate how much time the projectile will take to get back to the initial altitude. (yes you're expected to disregard air resistence)"
   ]
  },
  {
   "cell_type": "code",
   "execution_count": null,
   "metadata": {},
   "outputs": [],
   "source": [
    "# Acceleration Due to Gravity (g): The acceleration due to gravity is g = 9.8 m/s2 (on Earth)\n",
    "# Time (t_up) to Reach Maximum Height: t_up = v_0/g, where v_0 is the initial velocity of the projectile\n",
    "# Time to Return to Initial Altitude (t_total): t_total = 2*t_up\n",
    "# Source: The Open University\n",
    "\n",
    "def time_to_return(initial_speed):\n",
    "\n",
    "    # Define the acceleration due to gravity\n",
    "    g = 9.8\n",
    "\n",
    "    # Define the time to reach the maximum hight\n",
    "    t_up = initial_speed / g\n",
    "\n",
    "    # The total time to return to the initial velocity is twice the time to reach maximum hight (kinetic energy)\n",
    "    t_total = 2 * t_up\n",
    "\n",
    "    return t_total\n",
    "\n",
    "initial_speed = float(input(\"Enter the initial speed of the projectile (in m/s): \"))\n",
    "time = time_to_return(initial_speed)\n",
    "print(f\"The time it takes for the projectile to return to the initial altitude is {time: .2f} seconds.\")"
   ]
  },
  {
   "cell_type": "markdown",
   "metadata": {},
   "source": [
    "<h1>solve these questions...or ELSE</h1>\n",
    "\n",
    "Why the nested if statement below doesn't only produce the first print? Can you modify it so it produces the desired output?"
   ]
  },
  {
   "cell_type": "code",
   "execution_count": null,
   "metadata": {},
   "outputs": [
    {
     "name": "stdout",
     "output_type": "stream",
     "text": [
      "Yeeeey!\n",
      ".....???\n"
     ]
    }
   ],
   "source": [
    "food = 'Pizza'\n",
    "drinks = 'Beer'\n",
    "\n",
    "if food == 'Pizza' and drinks == 'Beer':\n",
    "    print('Yeeeey!')\n",
    "if food == 'Pizza' and drinks != 'Beer':\n",
    "    print('Yey.')\n",
    "if food != 'Pizza' and drinks == 'Beer':\n",
    "    print('Yey!')\n",
    "else:\n",
    "    print('.....???')\n",
    "\n",
    "# Each if condition is evaluated independently, therefore elif needs to be used for the program to evaluate the conditions sequentially\n",
    "food = 'Pizza'\n",
    "drinks = 'Beer'\n",
    "\n",
    "if food == 'Pizza' and drinks == 'Beer':\n",
    "    print('Yeeeey!')\n",
    "elif food == 'Pizza' and drinks != 'Beer':\n",
    "    print('Yey.')\n",
    "elif food != 'Pizza' and drinks == 'Beer':\n",
    "    print('Yey!')\n",
    "else:\n",
    "    print('.....???')"
   ]
  },
  {
   "cell_type": "markdown",
   "metadata": {},
   "source": [
    "<h1> Debugging </h1>\n",
    "None of the blocks of code below work. Your task is to make them work (if possible!) and add markup cells (or comments) explaining why they don't work."
   ]
  },
  {
   "cell_type": "markdown",
   "metadata": {},
   "source": [
    "print(\"Is this working?\")"
   ]
  },
  {
   "cell_type": "code",
   "execution_count": null,
   "metadata": {},
   "outputs": [],
   "source": [
    "#print(\"does this work?\")"
   ]
  },
  {
   "cell_type": "markdown",
   "metadata": {},
   "source": [
    "# '#' symbol tells Python that this is a comment and it is being ignored\n",
    "print(\"does this work?\")\n"
   ]
  },
  {
   "cell_type": "code",
   "execution_count": null,
   "metadata": {},
   "outputs": [
    {
     "ename": "SyntaxError",
     "evalue": "EOL while scanning string literal (<ipython-input-2-2852959246c0>, line 1)",
     "output_type": "error",
     "traceback": [
      "\u001b[1;36m  File \u001b[1;32m\"<ipython-input-2-2852959246c0>\"\u001b[1;36m, line \u001b[1;32m1\u001b[0m\n\u001b[1;33m    print(\"about now')\u001b[0m\n\u001b[1;37m                      ^\u001b[0m\n\u001b[1;31mSyntaxError\u001b[0m\u001b[1;31m:\u001b[0m EOL while scanning string literal\n"
     ]
    }
   ],
   "source": [
    "print(\"about now?')"
   ]
  },
  {
   "cell_type": "markdown",
   "metadata": {},
   "source": [
    "# Inconsistent use of symbols. For the code to work, \" and ' cannot be mixed:\n",
    "print(\"about now?\")\n",
    "# or\n",
    "print('about now?')"
   ]
  },
  {
   "cell_type": "code",
   "execution_count": null,
   "metadata": {},
   "outputs": [
    {
     "ename": "SyntaxError",
     "evalue": "invalid syntax (<ipython-input-6-4a4b0ad9dd57>, line 3)",
     "output_type": "error",
     "traceback": [
      "\u001b[1;36m  File \u001b[1;32m\"<ipython-input-6-4a4b0ad9dd57>\"\u001b[1;36m, line \u001b[1;32m3\u001b[0m\n\u001b[1;33m    print(text_variable my_mood)\u001b[0m\n\u001b[1;37m                        ^\u001b[0m\n\u001b[1;31mSyntaxError\u001b[0m\u001b[1;31m:\u001b[0m invalid syntax\n"
     ]
    }
   ],
   "source": [
    "text_variable = \"Today on a scale from 1 to 10 I am feeling...\"\n",
    "my_mood = 10\n",
    "print(text_variable my_mood)"
   ]
  },
  {
   "cell_type": "markdown",
   "metadata": {},
   "source": [
    "# For the code to work, variables need to be separated with a coma\n",
    "text_variable = \"Today on a scale from 1 to 10 I am feeling...\"\n",
    "my_mood = 10\n",
    "print(text_variable, my_mood)"
   ]
  },
  {
   "cell_type": "code",
   "execution_count": null,
   "metadata": {},
   "outputs": [
    {
     "ename": "SyntaxError",
     "evalue": "invalid syntax (<ipython-input-5-53506dfc07ae>, line 2)",
     "output_type": "error",
     "traceback": [
      "\u001b[1;36m  File \u001b[1;32m\"<ipython-input-5-53506dfc07ae>\"\u001b[1;36m, line \u001b[1;32m2\u001b[0m\n\u001b[1;33m    my_mood =\u001b[0m\n\u001b[1;37m              ^\u001b[0m\n\u001b[1;31mSyntaxError\u001b[0m\u001b[1;31m:\u001b[0m invalid syntax\n"
     ]
    }
   ],
   "source": [
    "text_variable = \"Today on a scale from 1 to 10 I am feeling...\"\n",
    "my_mood = 10\n",
    "print(text_variable+my_mood) #Yep there are ways to make it work with a + operator too!"
   ]
  },
  {
   "cell_type": "markdown",
   "metadata": {},
   "source": [
    "# Python cannot add an integer to a string. The integer needs to be converted into a string\n",
    "print(text_variable + str(my_mood))"
   ]
  },
  {
   "cell_type": "code",
   "execution_count": null,
   "metadata": {},
   "outputs": [
    {
     "ename": "NameError",
     "evalue": "name 'item1' is not defined",
     "output_type": "error",
     "traceback": [
      "\u001b[1;31m---------------------------------------------------------------------------\u001b[0m",
      "\u001b[1;31mNameError\u001b[0m                                 Traceback (most recent call last)",
      "\u001b[1;32m<ipython-input-7-74575f58e260>\u001b[0m in \u001b[0;36m<module>\u001b[1;34m\u001b[0m\n\u001b[1;32m----> 1\u001b[1;33m a_dictionary = {item1: 'Value 1',\n\u001b[0m\u001b[0;32m      2\u001b[0m                 item2: 'value 2',}\n",
      "\u001b[1;31mNameError\u001b[0m: name 'item1' is not defined"
     ]
    }
   ],
   "source": [
    "a_dictionary = {item1: 'Value 1',\n",
    "                item2: 'value 2',}"
   ]
  },
  {
   "cell_type": "markdown",
   "metadata": {},
   "source": [
    "# item1 and item2 (keys) need to be in brackets\n",
    "a_dictionary = {\"item1\": 'Value 1',\n",
    "                \"item2\": 'value 2'}\n"
   ]
  },
  {
   "cell_type": "code",
   "execution_count": null,
   "metadata": {},
   "outputs": [
    {
     "ename": "SyntaxError",
     "evalue": "cannot assign to literal (<ipython-input-10-66d345ec7c62>, line 1)",
     "output_type": "error",
     "traceback": [
      "\u001b[1;36m  File \u001b[1;32m\"<ipython-input-10-66d345ec7c62>\"\u001b[1;36m, line \u001b[1;32m1\u001b[0m\n\u001b[1;33m    1 = 1 # Should return True\u001b[0m\n\u001b[1;37m    ^\u001b[0m\n\u001b[1;31mSyntaxError\u001b[0m\u001b[1;31m:\u001b[0m cannot assign to literal\n"
     ]
    }
   ],
   "source": [
    "1 = 1 # Should return True"
   ]
  },
  {
   "cell_type": "markdown",
   "metadata": {},
   "source": [
    "# The error occurs because the = operator is used for assignment, not comparison\n",
    "print(1 ==1)"
   ]
  },
  {
   "cell_type": "code",
   "execution_count": null,
   "metadata": {},
   "outputs": [],
   "source": [
    "# Why isn't the outcome 'Clap your hands?'\n",
    "mood = 'happy'\n",
    "if mood == 'Happy':\n",
    "    print('Clap your hands')\n",
    "else:\n",
    "    print('...do I look like I have this one figured out?')"
   ]
  },
  {
   "cell_type": "markdown",
   "metadata": {},
   "source": [
    "# The issue here is the difference between the lower and the upper case\n",
    "mood = 'happy'\n",
    "if mood == 'happy':\n",
    "    print('Clap your hands')\n",
    "else:\n",
    "    print('...do I look like I have this one figured out?')"
   ]
  },
  {
   "cell_type": "code",
   "execution_count": null,
   "metadata": {},
   "outputs": [],
   "source": [
    "def printerfunction(x,y):\n",
    "print(x,y)\n",
    "\n",
    "printerfunction(\"a word\", \"another word\")"
   ]
  },
  {
   "cell_type": "markdown",
   "metadata": {},
   "source": [
    "# Indentation error caused by a line following def function not being indented\n",
    "def printerfunction(x,y):\n",
    "    print(x,y)\n",
    "\n",
    "printerfunction(\"a word\", \"another word\")"
   ]
  },
  {
   "cell_type": "code",
   "execution_count": null,
   "metadata": {},
   "outputs": [],
   "source": [
    "# bonus/annoying round, why is this crashing?\n",
    "mood = 'happy'\n",
    "if mood == 'Happy':\n",
    "   print('Clap your hands')\n",
    "else:\n",
    "    print('...do I look like I have this one figured out?')\n",
    "\n",
    "# It's not crashing, it gives a negative result because there's a case-sensitivity issue. For Python 'Happy' and 'happy' are two different things."
   ]
  }
 ],
 "metadata": {
  "kernelspec": {
   "display_name": "Python 3 (ipykernel)",
   "language": "python",
   "name": "python3"
  },
  "language_info": {
   "codemirror_mode": {
    "name": "ipython",
    "version": 3
   },
   "file_extension": ".py",
   "mimetype": "text/x-python",
   "name": "python",
   "nbconvert_exporter": "python",
   "pygments_lexer": "ipython3",
   "version": "3.9.13"
  }
 },
 "nbformat": 4,
 "nbformat_minor": 4
}
